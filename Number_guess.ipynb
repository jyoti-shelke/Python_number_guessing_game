{
 "cells": [
  {
   "cell_type": "code",
   "execution_count": 28,
   "id": "70130847",
   "metadata": {},
   "outputs": [
    {
     "name": "stdout",
     "output_type": "stream",
     "text": [
      "Welcome to number Gusessing game \n",
      " You have only 5 attempts to Guess\n",
      "Enter Number to guess67\n",
      "Number guesses is low\n",
      "you have 4 attempts left\n",
      "guess Again:88\n",
      "Number guesses is low\n",
      "you have 3 attempts left\n",
      "guess Again:90\n",
      "Number guesses is low\n",
      "you have 2 attempts left\n",
      "guess Again:99\n",
      "Number guesses is high\n",
      "you have 1 attempts left\n",
      "guess Again:95\n",
      "Bad Luck , Try again..!\n"
     ]
    }
   ],
   "source": [
    "import random\n",
    "import time\n",
    "n = random.randrange(1,100)\n",
    "print(\"Welcome to number Gusessing game \\n You have only 5 attempts to Guess\")\n",
    "time.sleep(2)\n",
    "guess=int(input(\"Enter Number to guess\"))\n",
    "count=1\n",
    "while n!=guess and count<5:\n",
    "    if(guess<n):\n",
    "        print(\"Number guesses is low\")\n",
    "        print(\"you have {} attempts left\".format(5-count))\n",
    "        guess=int(input(\"guess Again:\"))\n",
    "        count=count+1\n",
    "    elif(guess>n):\n",
    "        print(\"Number guesses is high\")\n",
    "        print(\"you have {} attempts left\".format(5-count))\n",
    "        guess=int(input(\"guess Again:\"))\n",
    "        count=count+1\n",
    "if n==guess:\n",
    "    print(\" *** You guessed it Right *** \")\n",
    "else:\n",
    "    print(\"Bad Luck , Try again..!\")\n"
   ]
  },
  {
   "cell_type": "code",
   "execution_count": null,
   "id": "d5884031",
   "metadata": {},
   "outputs": [],
   "source": [
    "while"
   ]
  }
 ],
 "metadata": {
  "kernelspec": {
   "display_name": "Python 3 (ipykernel)",
   "language": "python",
   "name": "python3"
  },
  "language_info": {
   "codemirror_mode": {
    "name": "ipython",
    "version": 3
   },
   "file_extension": ".py",
   "mimetype": "text/x-python",
   "name": "python",
   "nbconvert_exporter": "python",
   "pygments_lexer": "ipython3",
   "version": "3.10.9"
  }
 },
 "nbformat": 4,
 "nbformat_minor": 5
}
